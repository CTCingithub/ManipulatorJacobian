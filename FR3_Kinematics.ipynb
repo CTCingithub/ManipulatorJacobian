{
 "cells": [
  {
   "cell_type": "markdown",
   "metadata": {},
   "source": [
    "# Franka Emika Panda Manipulator's Dynamics\n"
   ]
  },
  {
   "cell_type": "code",
   "execution_count": 1,
   "metadata": {},
   "outputs": [],
   "source": [
    "import sympy as p\n",
    "import numpy as np\n",
    "from SYMBOLIC import *"
   ]
  },
  {
   "cell_type": "markdown",
   "metadata": {},
   "source": [
    "## 1. Kinematics with PoE\n"
   ]
  },
  {
   "cell_type": "markdown",
   "metadata": {},
   "source": [
    "### 1.1 Definitions\n"
   ]
  },
  {
   "cell_type": "markdown",
   "metadata": {},
   "source": [
    "Define time $t$ and angles.\n"
   ]
  },
  {
   "cell_type": "code",
   "execution_count": 34,
   "metadata": {},
   "outputs": [],
   "source": [
    "t = p.Symbol(\"t\")\n",
    "theta_1_t = p.Function(\"theta_1\")(t)\n",
    "theta_2_t = p.Function(\"theta_2\")(t)\n",
    "theta_3_t = p.Function(\"theta_3\")(t)\n",
    "theta_4_t = p.Function(\"theta_4\")(t)\n",
    "theta_5_t = p.Function(\"theta_5\")(t)\n",
    "theta_6_t = p.Function(\"theta_6\")(t)\n",
    "theta_7_t = p.Function(\"theta_7\")(t)\n",
    "theta_8_t = p.Function(\"theta_8\")(t)\n",
    "\n",
    "# Generalized Coordinates\n",
    "q1, q2, q3, q4, q5, q6, q7 = p.symbols(\"q1 q2 q3 q4 q5 q6 q7\")\n",
    "# Generalized Velocity\n",
    "v1, v2, v3, v4, v5, v6, v7 = p.symbols(\"v1 v2 v3 v4 v5 v6 v7\")\n",
    "# Generalized Acceleration\n",
    "a1, a2, a3, a4, a5, a6, a7 = p.symbols(\"a1 a2 a3 a4 a5 a6 a7\")"
   ]
  },
  {
   "cell_type": "code",
   "execution_count": 33,
   "metadata": {},
   "outputs": [
    {
     "data": {
      "text/latex": [
       "$\\displaystyle \\frac{d^{2}}{d t^{2}} \\theta_{1}{\\left(t \\right)}$"
      ],
      "text/plain": [
       "Derivative(theta_1(t), (t, 2))"
      ]
     },
     "execution_count": 33,
     "metadata": {},
     "output_type": "execute_result"
    }
   ],
   "source": [
    "theta_1_t.diff(t, 2)"
   ]
  },
  {
   "cell_type": "markdown",
   "metadata": {},
   "source": [
    "Define geometric parameters. We apply **Modified D-H** notation. Noting that $\\square_{i}$ refers to $\\square$ of joint $i$, $\\square_{ci}$ refers to $\\square$ of rod $i$.\n"
   ]
  },
  {
   "cell_type": "code",
   "execution_count": 3,
   "metadata": {},
   "outputs": [],
   "source": [
    "# Joint DH Parameters\n",
    "x0, x1, x2, x3, x4, x5, x6, x7, x8 = p.symbols(\n",
    "    \"x_0 x_1 x_2 x_3 x_4 x_5 x_6 x_7 x_8\")\n",
    "y0, y1, y2, y3, y4, y5, y6, y7, y8 = p.symbols(\n",
    "    \"y_0 y_1 y_2 y_3 y_4 y_5 y_6 y_7 y_8\")\n",
    "z0, z1, z2, z3, z4, z5, z6, z7, z8 = p.symbols(\n",
    "    \"z_0 z_1 z_2 z_3 z_4 z_5 z_6 z_7 z_8\")\n",
    "\n",
    "# Link CoM Parameters\n",
    "xc1, xc2, xc3, xc4, xc5, xc6, xc7 = p.symbols(\n",
    "    \"x_c1 x_c2 x_c3 x_c4 x_c5 x_c6 x_c7\")\n",
    "yc1, yc2, yc3, yc4, yc5, yc6, yc7 = p.symbols(\n",
    "    \"y_c1 y_c2 y_c3 y_c4 y_c5 y_c6 y_c7\")\n",
    "zc1, zc2, zc3, zc4, zc5, zc6, zc7 = p.symbols(\n",
    "    \"z_c1 z_c2 z_c3 z_c4 z_c5 z_c6 z_c7\")"
   ]
  },
  {
   "cell_type": "markdown",
   "metadata": {},
   "source": [
    "From corresponding URDF file, we got"
   ]
  },
  {
   "cell_type": "code",
   "execution_count": 4,
   "metadata": {},
   "outputs": [],
   "source": [
    "# Joint parameters\n",
    "# Remove 0-value parameters\n",
    "x0, y0, z0 = 0, 0, 0\n",
    "x1, y1 = 0, 0\n",
    "x2, y2, z2 = 0, 0, 0\n",
    "x3, z3 = 0, 0\n",
    "y4, z4 = 0, 0\n",
    "z5 = 0\n",
    "x6, y6, z6 = 0, 0, 0\n",
    "y7, z7 = 0, 0\n",
    "x8, y8 = 0, 0\n",
    "\n",
    "# RPY Angles from URDF File\n",
    "RPY_0_1 = [0, 0, 0]\n",
    "RPY_1_2 = [-p.pi / 2, 0, 0]\n",
    "RPY_2_3 = [p.pi / 2, 0, 0]\n",
    "RPY_3_4 = [p.pi / 2, 0, 0]\n",
    "RPY_4_5 = [-p.pi / 2, 0, 0]\n",
    "RPY_5_6 = [p.pi / 2, 0, 0]\n",
    "RPY_6_7 = [p.pi / 2, 0, 0]\n",
    "RPY_7_8 = [0, 0, 0]"
   ]
  },
  {
   "cell_type": "markdown",
   "metadata": {},
   "source": [
    "### 1.2 Forward Kinematics\n"
   ]
  },
  {
   "cell_type": "markdown",
   "metadata": {},
   "source": [
    "Transformation matrixes at $\\vec{0}$. `T_i_j_0` refers to $T_{i}^{j} (\\vec{0}) $.\n"
   ]
  },
  {
   "cell_type": "code",
   "execution_count": 5,
   "metadata": {},
   "outputs": [],
   "source": [
    "T_1_0_0 = Translation_4x4(p.Matrix([x1, y1, z1])) @ Rotation_RPY_4x4(RPY_0_1)\n",
    "T_2_1_0 = Translation_4x4(p.Matrix([x2, y2, z2])) @ Rotation_RPY_4x4(RPY_1_2)\n",
    "T_3_2_0 = Translation_4x4(p.Matrix([x3, y3, z3])) @ Rotation_RPY_4x4(RPY_2_3)\n",
    "T_4_3_0 = Translation_4x4(p.Matrix([x4, y4, z4])) @ Rotation_RPY_4x4(RPY_3_4)\n",
    "T_5_4_0 = Translation_4x4(p.Matrix([x5, y5, z5])) @ Rotation_RPY_4x4(RPY_4_5)\n",
    "T_6_5_0 = Translation_4x4(p.Matrix([x6, y6, z6])) @ Rotation_RPY_4x4(RPY_5_6)\n",
    "T_7_6_0 = Translation_4x4(p.Matrix([x7, y7, z7])) @ Rotation_RPY_4x4(RPY_6_7)\n",
    "T_8_7_0 = Translation_4x4(p.Matrix([x8, y8, z8])) @ Rotation_RPY_4x4(RPY_7_8)"
   ]
  },
  {
   "cell_type": "markdown",
   "metadata": {},
   "source": [
    "Joint positions at $\\vec{0}$.\n"
   ]
  },
  {
   "cell_type": "code",
   "execution_count": 6,
   "metadata": {},
   "outputs": [],
   "source": [
    "def Position(Transformation_i_j, P_i=p.Matrix([0, 0, 0, 1])):\n",
    "    return (Transformation_i_j @ P_i)[:3, :]\n",
    "\n",
    "\n",
    "T_1_0_0 = T_1_0_0\n",
    "T_2_0_0 = T_1_0_0 @ T_2_1_0\n",
    "T_3_0_0 = T_1_0_0 @ T_2_1_0 @ T_3_2_0\n",
    "T_4_0_0 = T_1_0_0 @ T_2_1_0 @ T_3_2_0 @ T_4_3_0\n",
    "T_5_0_0 = T_1_0_0 @ T_2_1_0 @ T_3_2_0 @ T_4_3_0 @ T_5_4_0\n",
    "T_6_0_0 = T_1_0_0 @ T_2_1_0 @ T_3_2_0 @ T_4_3_0 @ T_5_4_0 @ T_6_5_0\n",
    "T_7_0_0 = T_1_0_0 @ T_2_1_0 @ T_3_2_0 @ T_4_3_0 @ T_5_4_0 @ T_6_5_0 @ T_7_6_0\n",
    "T_8_0_0 = T_1_0_0 @ T_2_1_0 @ T_3_2_0 @ T_4_3_0 @ T_5_4_0 @ T_6_5_0 @ T_7_6_0 @ T_8_7_0\n",
    "\n",
    "r_1_0 = Position(T_1_0_0)\n",
    "r_2_0 = Position(T_2_0_0)\n",
    "r_3_0 = Position(T_3_0_0)\n",
    "r_4_0 = Position(T_4_0_0)\n",
    "r_5_0 = Position(T_5_0_0)\n",
    "r_6_0 = Position(T_6_0_0)\n",
    "r_7_0 = Position(T_7_0_0)\n",
    "r_8_0 = Position(T_8_0_0)"
   ]
  },
  {
   "cell_type": "markdown",
   "metadata": {},
   "source": [
    "Joint poses at $\\vec{0}$.\n"
   ]
  },
  {
   "cell_type": "code",
   "execution_count": 7,
   "metadata": {},
   "outputs": [],
   "source": [
    "omega_1_0 = p.Matrix([0, 0, 1]).reshape(3, 1)\n",
    "omega_2_0 = Rotation_RPY_4x4(RPY_1_2)[:3, :3] @ omega_1_0\n",
    "omega_3_0 = Rotation_RPY_4x4(RPY_2_3)[:3, :3] @ omega_2_0\n",
    "omega_4_0 = Rotation_RPY_4x4(RPY_3_4)[:3, :3] @ omega_3_0\n",
    "omega_5_0 = Rotation_RPY_4x4(RPY_4_5)[:3, :3] @ omega_4_0\n",
    "omega_6_0 = Rotation_RPY_4x4(RPY_5_6)[:3, :3] @ omega_5_0\n",
    "omega_7_0 = Rotation_RPY_4x4(RPY_6_7)[:3, :3] @ omega_6_0\n",
    "omega_8_0 = Rotation_RPY_4x4(RPY_7_8)[:3, :3] @ omega_7_0"
   ]
  },
  {
   "cell_type": "markdown",
   "metadata": {},
   "source": [
    "Joint unitary twists at $\\vec{0}$."
   ]
  },
  {
   "cell_type": "code",
   "execution_count": 8,
   "metadata": {},
   "outputs": [],
   "source": [
    "xi_1_0 = Joint2Twist(omega_1_0, r_1_0)\n",
    "xi_2_0 = Joint2Twist(omega_2_0, r_2_0)\n",
    "xi_3_0 = Joint2Twist(omega_3_0, r_3_0)\n",
    "xi_4_0 = Joint2Twist(omega_4_0, r_4_0)\n",
    "xi_5_0 = Joint2Twist(omega_5_0, r_5_0)\n",
    "xi_6_0 = Joint2Twist(omega_6_0, r_6_0)\n",
    "xi_7_0 = Joint2Twist(omega_7_0, r_7_0)\n",
    "xi_8_0 = Joint2Twist(omega_8_0, r_8_0)"
   ]
  },
  {
   "cell_type": "markdown",
   "metadata": {},
   "source": [
    "Transformation matrixes at $\\vec{\\theta}$ computed with PoE.\n"
   ]
  },
  {
   "cell_type": "code",
   "execution_count": 9,
   "metadata": {},
   "outputs": [],
   "source": [
    "# Transformation Matrixes\n",
    "T_1_0 = MatrixExp_4x4(xi_1_0, theta_1_t) @ T_1_0_0\n",
    "T_2_0 = MatrixExp_4x4(xi_1_0, theta_1_t) @ MatrixExp_4x4(xi_2_0, theta_2_t) @ T_2_0_0\n",
    "T_3_0 = (\n",
    "    MatrixExp_4x4(xi_1_0, theta_1_t)\n",
    "    @ MatrixExp_4x4(xi_2_0, theta_2_t)\n",
    "    @ MatrixExp_4x4(xi_3_0, theta_3_t)\n",
    "    @ T_3_0_0\n",
    ")\n",
    "T_4_0 = (\n",
    "    MatrixExp_4x4(xi_1_0, theta_1_t)\n",
    "    @ MatrixExp_4x4(xi_2_0, theta_2_t)\n",
    "    @ MatrixExp_4x4(xi_3_0, theta_3_t)\n",
    "    @ MatrixExp_4x4(xi_4_0, theta_4_t)\n",
    "    @ T_4_0_0\n",
    ")\n",
    "T_5_0 = (\n",
    "    MatrixExp_4x4(xi_1_0, theta_1_t)\n",
    "    @ MatrixExp_4x4(xi_2_0, theta_2_t)\n",
    "    @ MatrixExp_4x4(xi_3_0, theta_3_t)\n",
    "    @ MatrixExp_4x4(xi_4_0, theta_4_t)\n",
    "    @ MatrixExp_4x4(xi_5_0, theta_5_t)\n",
    "    @ T_5_0_0\n",
    ")\n",
    "T_6_0 = (\n",
    "    MatrixExp_4x4(xi_1_0, theta_1_t)\n",
    "    @ MatrixExp_4x4(xi_2_0, theta_2_t)\n",
    "    @ MatrixExp_4x4(xi_3_0, theta_3_t)\n",
    "    @ MatrixExp_4x4(xi_4_0, theta_4_t)\n",
    "    @ MatrixExp_4x4(xi_5_0, theta_5_t)\n",
    "    @ MatrixExp_4x4(xi_6_0, theta_6_t)\n",
    "    @ T_6_0_0\n",
    ")\n",
    "T_7_0 = (\n",
    "    MatrixExp_4x4(xi_1_0, theta_1_t)\n",
    "    @ MatrixExp_4x4(xi_2_0, theta_2_t)\n",
    "    @ MatrixExp_4x4(xi_3_0, theta_3_t)\n",
    "    @ MatrixExp_4x4(xi_4_0, theta_4_t)\n",
    "    @ MatrixExp_4x4(xi_5_0, theta_5_t)\n",
    "    @ MatrixExp_4x4(xi_6_0, theta_6_t)\n",
    "    @ MatrixExp_4x4(xi_7_0, theta_7_t)\n",
    "    @ T_7_0_0\n",
    ")\n",
    "T_8_0 = (\n",
    "    MatrixExp_4x4(xi_1_0, theta_1_t)\n",
    "    @ MatrixExp_4x4(xi_2_0, theta_2_t)\n",
    "    @ MatrixExp_4x4(xi_3_0, theta_3_t)\n",
    "    @ MatrixExp_4x4(xi_4_0, theta_4_t)\n",
    "    @ MatrixExp_4x4(xi_5_0, theta_5_t)\n",
    "    @ MatrixExp_4x4(xi_6_0, theta_6_t)\n",
    "    @ MatrixExp_4x4(xi_7_0, theta_7_t)\n",
    "    @ MatrixExp_4x4(xi_8_0, theta_8_t)\n",
    "    @ T_8_0_0\n",
    ")"
   ]
  },
  {
   "cell_type": "markdown",
   "metadata": {},
   "source": [
    "Joint positions and poses at $\\vec{\\theta}$."
   ]
  },
  {
   "cell_type": "code",
   "execution_count": 10,
   "metadata": {},
   "outputs": [],
   "source": [
    "# Positions\n",
    "r_1 = Position(T_1_0)\n",
    "r_2 = Position(T_2_0)\n",
    "r_3 = Position(T_3_0)\n",
    "r_4 = Position(T_4_0)\n",
    "r_5 = Position(T_5_0)\n",
    "r_6 = Position(T_6_0)\n",
    "r_7 = Position(T_7_0)\n",
    "r_8 = Position(T_8_0)\n",
    "\n",
    "# Poses\n",
    "omega_1 = MatrixExp_3x3(omega_1_0, theta_1_t) @ omega_1_0\n",
    "omega_2 = (\n",
    "    MatrixExp_3x3(omega_1_0, theta_1_t)\n",
    "    @ MatrixExp_3x3(omega_2_0, theta_2_t)\n",
    "    @ omega_2_0\n",
    ")\n",
    "omega_3 = (\n",
    "    MatrixExp_3x3(omega_1_0, theta_1_t)\n",
    "    @ MatrixExp_3x3(omega_2_0, theta_2_t)\n",
    "    @ MatrixExp_3x3(omega_3_0, theta_3_t)\n",
    "    @ omega_3_0\n",
    ")\n",
    "omega_4 = (\n",
    "    MatrixExp_3x3(omega_1_0, theta_1_t)\n",
    "    @ MatrixExp_3x3(omega_2_0, theta_2_t)\n",
    "    @ MatrixExp_3x3(omega_3_0, theta_3_t)\n",
    "    @ MatrixExp_3x3(omega_4_0, theta_4_t)\n",
    "    @ omega_4_0\n",
    ")\n",
    "omega_5 = (\n",
    "    MatrixExp_3x3(omega_1_0, theta_1_t)\n",
    "    @ MatrixExp_3x3(omega_2_0, theta_2_t)\n",
    "    @ MatrixExp_3x3(omega_3_0, theta_3_t)\n",
    "    @ MatrixExp_3x3(omega_4_0, theta_4_t)\n",
    "    @ MatrixExp_3x3(omega_5_0, theta_5_t)\n",
    "    @ omega_5_0\n",
    ")\n",
    "omega_6 = (\n",
    "    MatrixExp_3x3(omega_1_0, theta_1_t)\n",
    "    @ MatrixExp_3x3(omega_2_0, theta_2_t)\n",
    "    @ MatrixExp_3x3(omega_3_0, theta_3_t)\n",
    "    @ MatrixExp_3x3(omega_4_0, theta_4_t)\n",
    "    @ MatrixExp_3x3(omega_5_0, theta_5_t)\n",
    "    @ MatrixExp_3x3(omega_6_0, theta_6_t)\n",
    "    @ omega_6_0\n",
    ")\n",
    "omega_7 = (\n",
    "    MatrixExp_3x3(omega_1_0, theta_1_t)\n",
    "    @ MatrixExp_3x3(omega_2_0, theta_2_t)\n",
    "    @ MatrixExp_3x3(omega_3_0, theta_3_t)\n",
    "    @ MatrixExp_3x3(omega_4_0, theta_4_t)\n",
    "    @ MatrixExp_3x3(omega_5_0, theta_5_t)\n",
    "    @ MatrixExp_3x3(omega_6_0, theta_6_t)\n",
    "    @ MatrixExp_3x3(omega_7_0, theta_7_t)\n",
    "    @ omega_7_0\n",
    ")\n",
    "omega_8 = (\n",
    "    MatrixExp_3x3(omega_1_0, theta_1_t)\n",
    "    @ MatrixExp_3x3(omega_2_0, theta_2_t)\n",
    "    @ MatrixExp_3x3(omega_3_0, theta_3_t)\n",
    "    @ MatrixExp_3x3(omega_4_0, theta_4_t)\n",
    "    @ MatrixExp_3x3(omega_5_0, theta_5_t)\n",
    "    @ MatrixExp_3x3(omega_6_0, theta_6_t)\n",
    "    @ MatrixExp_3x3(omega_7_0, theta_7_t)\n",
    "    @ MatrixExp_3x3(omega_8_0, theta_8_t)\n",
    "    @ omega_8_0\n",
    ")"
   ]
  },
  {
   "cell_type": "markdown",
   "metadata": {},
   "source": [
    "Joint unitary twists at $\\vec{\\theta} $."
   ]
  },
  {
   "cell_type": "code",
   "execution_count": 11,
   "metadata": {},
   "outputs": [],
   "source": [
    "xi_1 = Joint2Twist(omega_1, r_1)\n",
    "xi_2 = Joint2Twist(omega_2, r_2)\n",
    "xi_3 = Joint2Twist(omega_3, r_3)\n",
    "xi_4 = Joint2Twist(omega_4, r_4)\n",
    "xi_5 = Joint2Twist(omega_5, r_5)\n",
    "xi_6 = Joint2Twist(omega_6, r_6)\n",
    "xi_7 = Joint2Twist(omega_7, r_7)\n",
    "xi_8 = Joint2Twist(omega_8, r_8)"
   ]
  },
  {
   "cell_type": "markdown",
   "metadata": {},
   "source": [
    "Link CoM postions."
   ]
  },
  {
   "cell_type": "code",
   "execution_count": 12,
   "metadata": {},
   "outputs": [],
   "source": [
    "# Transformation Matrix of joints and CoMs\n",
    "T_m1_1 = Translation_4x4(p.Matrix([xc1, yc1, zc1])) @ Rotation_RPY_4x4(p.zeros(3, 1))\n",
    "T_m2_2 = Translation_4x4(p.Matrix([xc2, yc2, zc2])) @ Rotation_RPY_4x4(p.zeros(3, 1))\n",
    "T_m3_3 = Translation_4x4(p.Matrix([xc3, yc3, zc3])) @ Rotation_RPY_4x4(p.zeros(3, 1))\n",
    "T_m4_4 = Translation_4x4(p.Matrix([xc4, yc4, zc4])) @ Rotation_RPY_4x4(p.zeros(3, 1))\n",
    "T_m5_5 = Translation_4x4(p.Matrix([xc5, yc5, zc5])) @ Rotation_RPY_4x4(p.zeros(3, 1))\n",
    "T_m6_6 = Translation_4x4(p.Matrix([xc6, yc6, zc6])) @ Rotation_RPY_4x4(p.zeros(3, 1))\n",
    "T_m7_7 = Translation_4x4(p.Matrix([xc7, yc7, zc7])) @ Rotation_RPY_4x4(p.zeros(3, 1))\n",
    "\n",
    "# CoM postions at $\\vec{0}$\n",
    "r_m1_0 = Position(T_1_0_0 @ T_m1_1)\n",
    "r_m2_0 = Position(T_2_0_0 @ T_m2_2)\n",
    "r_m3_0 = Position(T_3_0_0 @ T_m3_3)\n",
    "r_m4_0 = Position(T_4_0_0 @ T_m4_4)\n",
    "r_m5_0 = Position(T_5_0_0 @ T_m5_5)\n",
    "r_m6_0 = Position(T_6_0_0 @ T_m6_6)\n",
    "r_m7_0 = Position(T_7_0_0 @ T_m7_7)\n",
    "\n",
    "# CoM postions at $\\vec{\\theta}$\n",
    "r_m1 = Position(T_1_0 @ T_m1_1)\n",
    "r_m2 = Position(T_2_0 @ T_m2_2)\n",
    "r_m3 = Position(T_3_0 @ T_m3_3)\n",
    "r_m4 = Position(T_4_0 @ T_m4_4)\n",
    "r_m5 = Position(T_5_0 @ T_m5_5)\n",
    "r_m6 = Position(T_6_0 @ T_m6_6)\n",
    "r_m7 = Position(T_7_0 @ T_m7_7)"
   ]
  },
  {
   "cell_type": "markdown",
   "metadata": {},
   "source": [
    "Joints' spatial velocity."
   ]
  },
  {
   "cell_type": "code",
   "execution_count": 13,
   "metadata": {},
   "outputs": [],
   "source": [
    "# Rotation part of joints' Spatial Velocity\n",
    "SpatialVelocity_Rot_1 = omega_1 * theta_1_t.diff(t)\n",
    "SpatialVelocity_Rot_2 = omega_1 * theta_1_t.diff(t) + omega_2 * theta_2_t.diff(t)\n",
    "SpatialVelocity_Rot_3 = (\n",
    "    omega_1 * theta_1_t.diff(t)\n",
    "    + omega_2 * theta_2_t.diff(t)\n",
    "    + omega_3 * theta_3_t.diff(t)\n",
    ")\n",
    "SpatialVelocity_Rot_4 = (\n",
    "    omega_1 * theta_1_t.diff(t)\n",
    "    + omega_2 * theta_2_t.diff(t)\n",
    "    + omega_3 * theta_3_t.diff(t)\n",
    "    + omega_4 * theta_4_t.diff(t)\n",
    ")\n",
    "SpatialVelocity_Rot_5 = (\n",
    "    omega_1 * theta_1_t.diff(t)\n",
    "    + omega_2 * theta_2_t.diff(t)\n",
    "    + omega_3 * theta_3_t.diff(t)\n",
    "    + omega_4 * theta_4_t.diff(t)\n",
    "    + omega_5 * theta_5_t.diff(t)\n",
    ")\n",
    "SpatialVelocity_Rot_6 = (\n",
    "    omega_1 * theta_1_t.diff(t)\n",
    "    + omega_2 * theta_2_t.diff(t)\n",
    "    + omega_3 * theta_3_t.diff(t)\n",
    "    + omega_4 * theta_4_t.diff(t)\n",
    "    + omega_5 * theta_5_t.diff(t)\n",
    "    + omega_6 * theta_6_t.diff(t)\n",
    ")\n",
    "SpatialVelocity_Rot_7 = (\n",
    "    omega_1 * theta_1_t.diff(t)\n",
    "    + omega_2 * theta_2_t.diff(t)\n",
    "    + omega_3 * theta_3_t.diff(t)\n",
    "    + omega_4 * theta_4_t.diff(t)\n",
    "    + omega_5 * theta_5_t.diff(t)\n",
    "    + omega_6 * theta_6_t.diff(t)\n",
    "    + omega_7 * theta_7_t.diff(t)\n",
    ")\n",
    "\n",
    "# Translation part of Joints' Spatial Velocity\n",
    "SpatialVelocity_Trans_1 = r_1.diff(t)\n",
    "SpatialVelocity_Trans_2 = r_2.diff(t)\n",
    "SpatialVelocity_Trans_3 = r_3.diff(t)\n",
    "SpatialVelocity_Trans_4 = r_4.diff(t)\n",
    "SpatialVelocity_Trans_5 = r_5.diff(t)\n",
    "SpatialVelocity_Trans_6 = r_6.diff(t)\n",
    "SpatialVelocity_Trans_7 = r_7.diff(t)\n",
    "\n",
    "# Joints' Spatial Velocity\n",
    "SpatialVelocity_1 = SpatialVelocity_Rot_1.col_join(SpatialVelocity_Trans_1)\n",
    "SpatialVelocity_2 = SpatialVelocity_Rot_2.col_join(SpatialVelocity_Trans_2)\n",
    "SpatialVelocity_3 = SpatialVelocity_Rot_3.col_join(SpatialVelocity_Trans_3)\n",
    "SpatialVelocity_4 = SpatialVelocity_Rot_4.col_join(SpatialVelocity_Trans_4)\n",
    "SpatialVelocity_5 = SpatialVelocity_Rot_5.col_join(SpatialVelocity_Trans_5)\n",
    "SpatialVelocity_6 = SpatialVelocity_Rot_6.col_join(SpatialVelocity_Trans_6)\n",
    "SpatialVelocity_7 = SpatialVelocity_Rot_7.col_join(SpatialVelocity_Trans_7)"
   ]
  },
  {
   "cell_type": "markdown",
   "metadata": {},
   "source": [
    "Check Joint spatial velocity correctness."
   ]
  },
  {
   "cell_type": "code",
   "execution_count": 14,
   "metadata": {},
   "outputs": [
    {
     "data": {
      "text/plain": [
       "True"
      ]
     },
     "execution_count": 14,
     "metadata": {},
     "output_type": "execute_result"
    }
   ],
   "source": [
    "p.simplify(\n",
    "    T_3_0.diff(t) @ TransformationMatrix_Inverse(T_3_0)\n",
    "    - Twist2Matrix_4x4(SpatialVelocity_3)\n",
    ") == p.zeros(4, 4)"
   ]
  },
  {
   "cell_type": "code",
   "execution_count": 16,
   "metadata": {},
   "outputs": [
    {
     "data": {
      "text/latex": [
       "$\\displaystyle \\left[\\begin{matrix}0 & 0 & 0 & y_{3} \\sin{\\left(\\theta_{1}{\\left(t \\right)} \\right)} \\sin{\\left(\\theta_{2}{\\left(t \\right)} \\right)} \\frac{d}{d t} \\theta_{1}{\\left(t \\right)} - y_{3} \\cos{\\left(\\theta_{1}{\\left(t \\right)} \\right)} \\cos{\\left(\\theta_{2}{\\left(t \\right)} \\right)} \\frac{d}{d t} \\theta_{2}{\\left(t \\right)} + z_{1} \\sin{\\left(\\theta_{1}{\\left(t \\right)} \\right)} \\sin{\\left(\\theta_{2}{\\left(t \\right)} \\right)} \\frac{d}{d t} \\theta_{3}{\\left(t \\right)} + z_{1} \\cos{\\left(\\theta_{1}{\\left(t \\right)} \\right)} \\frac{d}{d t} \\theta_{2}{\\left(t \\right)}\\\\0 & 0 & 0 & - y_{3} \\sin{\\left(\\theta_{1}{\\left(t \\right)} \\right)} \\cos{\\left(\\theta_{2}{\\left(t \\right)} \\right)} \\frac{d}{d t} \\theta_{2}{\\left(t \\right)} - y_{3} \\sin{\\left(\\theta_{2}{\\left(t \\right)} \\right)} \\cos{\\left(\\theta_{1}{\\left(t \\right)} \\right)} \\frac{d}{d t} \\theta_{1}{\\left(t \\right)} + z_{1} \\sin{\\left(\\theta_{1}{\\left(t \\right)} \\right)} \\frac{d}{d t} \\theta_{2}{\\left(t \\right)} - z_{1} \\sin{\\left(\\theta_{2}{\\left(t \\right)} \\right)} \\cos{\\left(\\theta_{1}{\\left(t \\right)} \\right)} \\frac{d}{d t} \\theta_{3}{\\left(t \\right)}\\\\0 & 0 & 0 & y_{3} \\sin{\\left(\\theta_{2}{\\left(t \\right)} \\right)} \\frac{d}{d t} \\theta_{2}{\\left(t \\right)}\\\\0 & 0 & 0 & 0\\end{matrix}\\right]$"
      ],
      "text/plain": [
       "Matrix([\n",
       "[0, 0, 0,  y_3*sin(theta_1(t))*sin(theta_2(t))*Derivative(theta_1(t), t) - y_3*cos(theta_1(t))*cos(theta_2(t))*Derivative(theta_2(t), t) + z_1*sin(theta_1(t))*sin(theta_2(t))*Derivative(theta_3(t), t) + z_1*cos(theta_1(t))*Derivative(theta_2(t), t)],\n",
       "[0, 0, 0, -y_3*sin(theta_1(t))*cos(theta_2(t))*Derivative(theta_2(t), t) - y_3*sin(theta_2(t))*cos(theta_1(t))*Derivative(theta_1(t), t) + z_1*sin(theta_1(t))*Derivative(theta_2(t), t) - z_1*sin(theta_2(t))*cos(theta_1(t))*Derivative(theta_3(t), t)],\n",
       "[0, 0, 0,                                                                                                                                                                                                  y_3*sin(theta_2(t))*Derivative(theta_2(t), t)],\n",
       "[0, 0, 0,                                                                                                                                                                                                                                              0]])"
      ]
     },
     "execution_count": 16,
     "metadata": {},
     "output_type": "execute_result"
    }
   ],
   "source": [
    "p.simplify(\n",
    "    Twist2Matrix_4x4(SpatialVelocity_3)\n",
    "    - Twist2Matrix_4x4(xi_1_0) * theta_1_t.diff(t)\n",
    "    - MatrixExp_4x4(xi_1_0, theta_1_t)\n",
    "    @ Twist2Matrix_4x4(xi_2_0)\n",
    "    @ MatrixExp_4x4(xi_1_0, -theta_1_t)\n",
    "    * theta_2_t.diff(t)\n",
    "    - MatrixExp_4x4(xi_1_0, theta_1_t)\n",
    "    @ MatrixExp_4x4(xi_2_0, theta_2_t)\n",
    "    @ Twist2Matrix_4x4(xi_3_0)\n",
    "    @ MatrixExp_4x4(xi_2_0, -theta_2_t)\n",
    "    @ MatrixExp_4x4(xi_1_0, -theta_1_t)\n",
    "    * theta_3_t.diff(t)\n",
    ")"
   ]
  },
  {
   "cell_type": "markdown",
   "metadata": {},
   "source": [
    "CoMs' spatial velocity."
   ]
  },
  {
   "cell_type": "code",
   "execution_count": 17,
   "metadata": {},
   "outputs": [],
   "source": [
    "# Rotation part of CoMs' Spatial Velocity\n",
    "SpatialVelocity_Rot_m1 = omega_1 * theta_1_t.diff(t)\n",
    "SpatialVelocity_Rot_m2 = omega_1 * theta_1_t.diff(t) + omega_2 * theta_2_t.diff(t)\n",
    "SpatialVelocity_Rot_m3 = (\n",
    "    omega_1 * theta_1_t.diff(t)\n",
    "    + omega_2 * theta_2_t.diff(t)\n",
    "    + omega_3 * theta_3_t.diff(t)\n",
    ")\n",
    "SpatialVelocity_Rot_m4 = (\n",
    "    omega_1 * theta_1_t.diff(t)\n",
    "    + omega_2 * theta_2_t.diff(t)\n",
    "    + omega_3 * theta_3_t.diff(t)\n",
    "    + omega_4 * theta_4_t.diff(t)\n",
    ")\n",
    "SpatialVelocity_Rot_m5 = (\n",
    "    omega_1 * theta_1_t.diff(t)\n",
    "    + omega_2 * theta_2_t.diff(t)\n",
    "    + omega_3 * theta_3_t.diff(t)\n",
    "    + omega_4 * theta_4_t.diff(t)\n",
    "    + omega_5 * theta_5_t.diff(t)\n",
    ")\n",
    "SpatialVelocity_Rot_m6 = (\n",
    "    omega_1 * theta_1_t.diff(t)\n",
    "    + omega_2 * theta_2_t.diff(t)\n",
    "    + omega_3 * theta_3_t.diff(t)\n",
    "    + omega_4 * theta_4_t.diff(t)\n",
    "    + omega_5 * theta_5_t.diff(t)\n",
    "    + omega_6 * theta_6_t.diff(t)\n",
    ")\n",
    "SpatialVelocity_Rot_m7 = (\n",
    "    omega_1 * theta_1_t.diff(t)\n",
    "    + omega_2 * theta_2_t.diff(t)\n",
    "    + omega_3 * theta_3_t.diff(t)\n",
    "    + omega_4 * theta_4_t.diff(t)\n",
    "    + omega_5 * theta_5_t.diff(t)\n",
    "    + omega_6 * theta_6_t.diff(t)\n",
    "    + omega_7 * theta_7_t.diff(t)\n",
    ")\n",
    "\n",
    "# Translation part of CoMs' Spatial Velocity\n",
    "SpatialVelocity_Trans_m1 = r_m1.diff(t)\n",
    "SpatialVelocity_Trans_m2 = r_m2.diff(t)\n",
    "SpatialVelocity_Trans_m3 = r_m3.diff(t)\n",
    "SpatialVelocity_Trans_m4 = r_m4.diff(t)\n",
    "SpatialVelocity_Trans_m5 = r_m5.diff(t)\n",
    "SpatialVelocity_Trans_m6 = r_m6.diff(t)\n",
    "SpatialVelocity_Trans_m7 = r_m7.diff(t)\n",
    "\n",
    "# CoMs' Spatial Velocity\n",
    "SpatialVelocity_m1 = SpatialVelocity_Rot_m1.col_join(SpatialVelocity_Trans_m1)\n",
    "SpatialVelocity_m2 = SpatialVelocity_Rot_m2.col_join(SpatialVelocity_Trans_m2)\n",
    "SpatialVelocity_m3 = SpatialVelocity_Rot_m3.col_join(SpatialVelocity_Trans_m3)\n",
    "SpatialVelocity_m4 = SpatialVelocity_Rot_m4.col_join(SpatialVelocity_Trans_m4)\n",
    "SpatialVelocity_m5 = SpatialVelocity_Rot_m5.col_join(SpatialVelocity_Trans_m5)\n",
    "SpatialVelocity_m6 = SpatialVelocity_Rot_m6.col_join(SpatialVelocity_Trans_m6)\n",
    "SpatialVelocity_m7 = SpatialVelocity_Rot_m7.col_join(SpatialVelocity_Trans_m7)"
   ]
  },
  {
   "cell_type": "markdown",
   "metadata": {},
   "source": [
    "Check CoM spatial velocity correctness."
   ]
  },
  {
   "cell_type": "code",
   "execution_count": 18,
   "metadata": {},
   "outputs": [
    {
     "data": {
      "text/plain": [
       "True"
      ]
     },
     "execution_count": 18,
     "metadata": {},
     "output_type": "execute_result"
    }
   ],
   "source": [
    "p.simplify(\n",
    "    (T_3_0 @ T_m3_3).diff(t) @ TransformationMatrix_Inverse(T_3_0 @ T_m3_3)\n",
    "    - Twist2Matrix_4x4(SpatialVelocity_m3)\n",
    ") == p.zeros(4, 4)"
   ]
  },
  {
   "cell_type": "code",
   "execution_count": 19,
   "metadata": {},
   "outputs": [
    {
     "data": {
      "text/latex": [
       "$\\displaystyle \\left[\\begin{matrix}0 & 0 & 0 & - x_{c3} \\left(\\sin{\\left(\\theta_{1}{\\left(t \\right)} \\right)} \\cos{\\left(\\theta_{2}{\\left(t \\right)} \\right)} \\cos{\\left(\\theta_{3}{\\left(t \\right)} \\right)} \\frac{d}{d t} \\theta_{1}{\\left(t \\right)} + \\sin{\\left(\\theta_{1}{\\left(t \\right)} \\right)} \\cos{\\left(\\theta_{3}{\\left(t \\right)} \\right)} \\frac{d}{d t} \\theta_{3}{\\left(t \\right)} + \\sin{\\left(\\theta_{2}{\\left(t \\right)} \\right)} \\cos{\\left(\\theta_{1}{\\left(t \\right)} \\right)} \\cos{\\left(\\theta_{3}{\\left(t \\right)} \\right)} \\frac{d}{d t} \\theta_{2}{\\left(t \\right)} + \\sin{\\left(\\theta_{3}{\\left(t \\right)} \\right)} \\cos{\\left(\\theta_{1}{\\left(t \\right)} \\right)} \\cos{\\left(\\theta_{2}{\\left(t \\right)} \\right)} \\frac{d}{d t} \\theta_{3}{\\left(t \\right)} + \\sin{\\left(\\theta_{3}{\\left(t \\right)} \\right)} \\cos{\\left(\\theta_{1}{\\left(t \\right)} \\right)} \\frac{d}{d t} \\theta_{1}{\\left(t \\right)}\\right) + y_{c3} \\left(\\sin{\\left(\\theta_{1}{\\left(t \\right)} \\right)} \\sin{\\left(\\theta_{3}{\\left(t \\right)} \\right)} \\cos{\\left(\\theta_{2}{\\left(t \\right)} \\right)} \\frac{d}{d t} \\theta_{1}{\\left(t \\right)} + \\sin{\\left(\\theta_{1}{\\left(t \\right)} \\right)} \\sin{\\left(\\theta_{3}{\\left(t \\right)} \\right)} \\frac{d}{d t} \\theta_{3}{\\left(t \\right)} + \\sin{\\left(\\theta_{2}{\\left(t \\right)} \\right)} \\sin{\\left(\\theta_{3}{\\left(t \\right)} \\right)} \\cos{\\left(\\theta_{1}{\\left(t \\right)} \\right)} \\frac{d}{d t} \\theta_{2}{\\left(t \\right)} - \\cos{\\left(\\theta_{1}{\\left(t \\right)} \\right)} \\cos{\\left(\\theta_{2}{\\left(t \\right)} \\right)} \\cos{\\left(\\theta_{3}{\\left(t \\right)} \\right)} \\frac{d}{d t} \\theta_{3}{\\left(t \\right)} - \\cos{\\left(\\theta_{1}{\\left(t \\right)} \\right)} \\cos{\\left(\\theta_{3}{\\left(t \\right)} \\right)} \\frac{d}{d t} \\theta_{1}{\\left(t \\right)}\\right) - z_{c3} \\sin{\\left(\\theta_{1}{\\left(t \\right)} \\right)} \\sin{\\left(\\theta_{2}{\\left(t \\right)} \\right)} \\frac{d}{d t} \\theta_{1}{\\left(t \\right)} + z_{c3} \\cos{\\left(\\theta_{1}{\\left(t \\right)} \\right)} \\cos{\\left(\\theta_{2}{\\left(t \\right)} \\right)} \\frac{d}{d t} \\theta_{2}{\\left(t \\right)}\\\\0 & 0 & 0 & - x_{c3} \\left(\\sin{\\left(\\theta_{1}{\\left(t \\right)} \\right)} \\sin{\\left(\\theta_{2}{\\left(t \\right)} \\right)} \\cos{\\left(\\theta_{3}{\\left(t \\right)} \\right)} \\frac{d}{d t} \\theta_{2}{\\left(t \\right)} + \\sin{\\left(\\theta_{1}{\\left(t \\right)} \\right)} \\sin{\\left(\\theta_{3}{\\left(t \\right)} \\right)} \\cos{\\left(\\theta_{2}{\\left(t \\right)} \\right)} \\frac{d}{d t} \\theta_{3}{\\left(t \\right)} + \\sin{\\left(\\theta_{1}{\\left(t \\right)} \\right)} \\sin{\\left(\\theta_{3}{\\left(t \\right)} \\right)} \\frac{d}{d t} \\theta_{1}{\\left(t \\right)} - \\cos{\\left(\\theta_{1}{\\left(t \\right)} \\right)} \\cos{\\left(\\theta_{2}{\\left(t \\right)} \\right)} \\cos{\\left(\\theta_{3}{\\left(t \\right)} \\right)} \\frac{d}{d t} \\theta_{1}{\\left(t \\right)} - \\cos{\\left(\\theta_{1}{\\left(t \\right)} \\right)} \\cos{\\left(\\theta_{3}{\\left(t \\right)} \\right)} \\frac{d}{d t} \\theta_{3}{\\left(t \\right)}\\right) - y_{c3} \\left(- \\sin{\\left(\\theta_{1}{\\left(t \\right)} \\right)} \\sin{\\left(\\theta_{2}{\\left(t \\right)} \\right)} \\sin{\\left(\\theta_{3}{\\left(t \\right)} \\right)} \\frac{d}{d t} \\theta_{2}{\\left(t \\right)} + \\sin{\\left(\\theta_{1}{\\left(t \\right)} \\right)} \\cos{\\left(\\theta_{2}{\\left(t \\right)} \\right)} \\cos{\\left(\\theta_{3}{\\left(t \\right)} \\right)} \\frac{d}{d t} \\theta_{3}{\\left(t \\right)} + \\sin{\\left(\\theta_{1}{\\left(t \\right)} \\right)} \\cos{\\left(\\theta_{3}{\\left(t \\right)} \\right)} \\frac{d}{d t} \\theta_{1}{\\left(t \\right)} + \\sin{\\left(\\theta_{3}{\\left(t \\right)} \\right)} \\cos{\\left(\\theta_{1}{\\left(t \\right)} \\right)} \\cos{\\left(\\theta_{2}{\\left(t \\right)} \\right)} \\frac{d}{d t} \\theta_{1}{\\left(t \\right)} + \\sin{\\left(\\theta_{3}{\\left(t \\right)} \\right)} \\cos{\\left(\\theta_{1}{\\left(t \\right)} \\right)} \\frac{d}{d t} \\theta_{3}{\\left(t \\right)}\\right) + z_{c3} \\sin{\\left(\\theta_{1}{\\left(t \\right)} \\right)} \\cos{\\left(\\theta_{2}{\\left(t \\right)} \\right)} \\frac{d}{d t} \\theta_{2}{\\left(t \\right)} + z_{c3} \\sin{\\left(\\theta_{2}{\\left(t \\right)} \\right)} \\cos{\\left(\\theta_{1}{\\left(t \\right)} \\right)} \\frac{d}{d t} \\theta_{1}{\\left(t \\right)}\\\\0 & 0 & 0 & x_{c3} \\sin{\\left(\\theta_{2}{\\left(t \\right)} \\right)} \\sin{\\left(\\theta_{3}{\\left(t \\right)} \\right)} \\frac{d}{d t} \\theta_{3}{\\left(t \\right)} - x_{c3} \\cos{\\left(\\theta_{2}{\\left(t \\right)} \\right)} \\cos{\\left(\\theta_{3}{\\left(t \\right)} \\right)} \\frac{d}{d t} \\theta_{2}{\\left(t \\right)} + y_{c3} \\sin{\\left(\\theta_{2}{\\left(t \\right)} \\right)} \\cos{\\left(\\theta_{3}{\\left(t \\right)} \\right)} \\frac{d}{d t} \\theta_{3}{\\left(t \\right)} + y_{c3} \\sin{\\left(\\theta_{3}{\\left(t \\right)} \\right)} \\cos{\\left(\\theta_{2}{\\left(t \\right)} \\right)} \\frac{d}{d t} \\theta_{2}{\\left(t \\right)} - z_{c3} \\sin{\\left(\\theta_{2}{\\left(t \\right)} \\right)} \\frac{d}{d t} \\theta_{2}{\\left(t \\right)}\\\\0 & 0 & 0 & 0\\end{matrix}\\right]$"
      ],
      "text/plain": [
       "Matrix([\n",
       "[0, 0, 0,  -x_c3*(sin(theta_1(t))*cos(theta_2(t))*cos(theta_3(t))*Derivative(theta_1(t), t) + sin(theta_1(t))*cos(theta_3(t))*Derivative(theta_3(t), t) + sin(theta_2(t))*cos(theta_1(t))*cos(theta_3(t))*Derivative(theta_2(t), t) + sin(theta_3(t))*cos(theta_1(t))*cos(theta_2(t))*Derivative(theta_3(t), t) + sin(theta_3(t))*cos(theta_1(t))*Derivative(theta_1(t), t)) + y_c3*(sin(theta_1(t))*sin(theta_3(t))*cos(theta_2(t))*Derivative(theta_1(t), t) + sin(theta_1(t))*sin(theta_3(t))*Derivative(theta_3(t), t) + sin(theta_2(t))*sin(theta_3(t))*cos(theta_1(t))*Derivative(theta_2(t), t) - cos(theta_1(t))*cos(theta_2(t))*cos(theta_3(t))*Derivative(theta_3(t), t) - cos(theta_1(t))*cos(theta_3(t))*Derivative(theta_1(t), t)) - z_c3*sin(theta_1(t))*sin(theta_2(t))*Derivative(theta_1(t), t) + z_c3*cos(theta_1(t))*cos(theta_2(t))*Derivative(theta_2(t), t)],\n",
       "[0, 0, 0, -x_c3*(sin(theta_1(t))*sin(theta_2(t))*cos(theta_3(t))*Derivative(theta_2(t), t) + sin(theta_1(t))*sin(theta_3(t))*cos(theta_2(t))*Derivative(theta_3(t), t) + sin(theta_1(t))*sin(theta_3(t))*Derivative(theta_1(t), t) - cos(theta_1(t))*cos(theta_2(t))*cos(theta_3(t))*Derivative(theta_1(t), t) - cos(theta_1(t))*cos(theta_3(t))*Derivative(theta_3(t), t)) - y_c3*(-sin(theta_1(t))*sin(theta_2(t))*sin(theta_3(t))*Derivative(theta_2(t), t) + sin(theta_1(t))*cos(theta_2(t))*cos(theta_3(t))*Derivative(theta_3(t), t) + sin(theta_1(t))*cos(theta_3(t))*Derivative(theta_1(t), t) + sin(theta_3(t))*cos(theta_1(t))*cos(theta_2(t))*Derivative(theta_1(t), t) + sin(theta_3(t))*cos(theta_1(t))*Derivative(theta_3(t), t)) + z_c3*sin(theta_1(t))*cos(theta_2(t))*Derivative(theta_2(t), t) + z_c3*sin(theta_2(t))*cos(theta_1(t))*Derivative(theta_1(t), t)],\n",
       "[0, 0, 0,                                                                                                                                                                                                                                                                                                                                                                                                                                                                                                                                                      x_c3*sin(theta_2(t))*sin(theta_3(t))*Derivative(theta_3(t), t) - x_c3*cos(theta_2(t))*cos(theta_3(t))*Derivative(theta_2(t), t) + y_c3*sin(theta_2(t))*cos(theta_3(t))*Derivative(theta_3(t), t) + y_c3*sin(theta_3(t))*cos(theta_2(t))*Derivative(theta_2(t), t) - z_c3*sin(theta_2(t))*Derivative(theta_2(t), t)],\n",
       "[0, 0, 0,                                                                                                                                                                                                                                                                                                                                                                                                                                                                                                                                                                                                                                                                                                                                                                                                                                                                       0]])"
      ]
     },
     "execution_count": 19,
     "metadata": {},
     "output_type": "execute_result"
    }
   ],
   "source": [
    "p.simplify(\n",
    "    (T_3_0 @ T_m3_3).diff(t) @ TransformationMatrix_Inverse(T_3_0 @ T_m3_3)\n",
    "    - (T_3_0).diff(t) @ TransformationMatrix_Inverse(T_3_0)\n",
    ")"
   ]
  },
  {
   "cell_type": "code",
   "execution_count": 20,
   "metadata": {},
   "outputs": [
    {
     "data": {
      "text/latex": [
       "$\\displaystyle \\left[\\begin{matrix}0 & 0 & 0 & 0\\\\0 & 0 & 0 & 0\\\\0 & 0 & 0 & 0\\\\0 & 0 & 0 & 0\\end{matrix}\\right]$"
      ],
      "text/plain": [
       "Matrix([\n",
       "[0, 0, 0, 0],\n",
       "[0, 0, 0, 0],\n",
       "[0, 0, 0, 0],\n",
       "[0, 0, 0, 0]])"
      ]
     },
     "execution_count": 20,
     "metadata": {},
     "output_type": "execute_result"
    }
   ],
   "source": [
    "p.simplify(T_3_0.diff(t) @ T_m3_3 - (T_3_0 @ T_m3_3).diff(t))"
   ]
  },
  {
   "cell_type": "markdown",
   "metadata": {},
   "source": [
    "Then we investigate the relationship between $\\vec{V}_{i}^{s} $ and $\\vec{V}_{m_{i}}^{s} $. The rotation parts are equal.\n",
    "\n",
    "$$\n",
    "\\hat{\\omega}_{m_{i}} = \\hat{\\omega}_{i}.\n",
    "$$\n",
    "\n",
    "The translation parts follows:\n",
    "\n",
    "$$\n",
    "\\begin{aligned}\n",
    "    \\vec{v}_{m_{i}} &= \\vec{v}_{i} + \\hat{\\omega}_{i} \\times \\begin{pmatrix}\n",
    "        x_{c_{i}}, y_{c_{i}}, z_{c_{i}}\n",
    "    \\end{pmatrix}^{\\top} \\\\\n",
    "    &= \\vec{v}_{i} + \\hat{\\omega}_{i} \\times (\\vec{r}_{m_{i}} - \\vec{r}_{i}) \\\\\n",
    "    &=  \\vec{v}_{i} - [\\vec{r}_{m_{i}} - \\vec{r}_{i}] \\hat{\\omega}_{i}.\n",
    "\\end{aligned}\n",
    "$$\n"
   ]
  },
  {
   "cell_type": "code",
   "execution_count": 21,
   "metadata": {},
   "outputs": [
    {
     "name": "stdout",
     "output_type": "stream",
     "text": [
      "True True\n"
     ]
    }
   ],
   "source": [
    "print(\n",
    "    (SpatialVelocity_m5 - SpatialVelocity_5).reshape(6, 1)[:3, :] == p.zeros(3, 1),\n",
    "    p.simplify(\n",
    "        Vector2Matrix_3x3(r_m3 - r_3) @ SpatialVelocity_Rot_3\n",
    "        + (SpatialVelocity_m3 - SpatialVelocity_3).reshape(6, 1)[-3:, :]\n",
    "    )\n",
    "    == p.zeros(3, 1),\n",
    ")"
   ]
  },
  {
   "cell_type": "markdown",
   "metadata": {},
   "source": [
    "The relationship between **spatial velocity** of $i$-th link's CoM and that of joint $i$ is:\n",
    "\n",
    "$$\n",
    "\\begin{aligned}\n",
    "    \\begin{pmatrix}\n",
    "        \\hat{\\omega}_{m_{i}} (\\vec{\\theta}) \\\\ \\vec{v}_{m_{i}} (\\vec{\\theta})\n",
    "    \\end{pmatrix} &= \\begin{bmatrix}\n",
    "        I & \\mathbf{0}_{3 \\times 3} \\\\\n",
    "        - [\\vec{r}_{m_{i}} (\\vec{\\theta}) - \\vec{r}_{i} (\\vec{\\theta})] & I\n",
    "    \\end{bmatrix} \\begin{pmatrix}\n",
    "        \\hat{\\omega}_{i} (\\vec{\\theta}) \\\\ \\vec{v}_{i} (\\vec{\\theta})\n",
    "    \\end{pmatrix} \\\\\n",
    "    \\vec{V}_{m_{i}}^{s} (\\vec{\\theta}) &= \\begin{bmatrix}\n",
    "        I & \\mathbf{0}_{3 \\times 3} \\\\\n",
    "        - [\\vec{r}_{m_{i}} (\\vec{\\theta}) - \\vec{r}_{i} (\\vec{\\theta})] & I\n",
    "    \\end{bmatrix} \\vec{V}_{i}^{s} (\\vec{\\theta}) \\\\\n",
    "    &= \\mathrm{Ad}_{V}^{-1} \\left(\n",
    "        \\begin{bmatrix}\n",
    "            I & \\vec{r}_{m_{i}} (\\vec{\\theta}) - \\vec{r}_{i} (\\vec{\\theta}) \\\\\n",
    "            \\vec{0}^{\\top} & 1\n",
    "        \\end{bmatrix}\n",
    "    \\right) \\vec{V}_{i}^{s} (\\vec{\\theta}) \\\\\n",
    "    &= \\mathrm{Ad}_{V}^{-1} \\left( T_{CoM} (i; \\vec{\\theta}) \\right) \\vec{V}_{i}^{s} (\\vec{\\theta})\n",
    "\\end{aligned}\n",
    "$$\n",
    "\n",
    "$\\vec{r}_{m_{i}}$ and $\\vec{r}_{i}$ follows\n",
    "\n",
    "$$\n",
    "\\begin{aligned}\n",
    "    \\begin{pmatrix}\n",
    "        \\vec{r}_{m_{i}} - \\vec{r}_{i} \\\\ 1\n",
    "    \\end{pmatrix} &= \\vec{p}_{m_{i}} (\\vec{\\theta}) - \\vec{p}_{i} (\\vec{\\theta}) + \\vec{p}_{0} \\\\\n",
    "    &= T_{i}^{0} (\\vec{\\theta}) T_{m_{i}}^{i} \\vec{p}_{0} - T_{i}^{0} (\\vec{\\theta}) \\vec{p}_{0} + \\vec{p}_{0} \\\\\n",
    "    &= \\left( T_{i}^{0} (\\vec{\\theta}) \\left( T_{m_{i}}^{i} - I \\right) + I \\right) \\vec{p}_{0}\n",
    "\\end{aligned}\n",
    "$$\n",
    "\n",
    "Then $T_{CoM} (i; \\vec{\\theta}) $ is obtained\n",
    "\n",
    "$$\n",
    "\\begin{aligned}\n",
    "    T_{CoM} (i; \\vec{\\theta}) &= T_{i}^{0} (\\vec{\\theta}) \\left( T_{m_{i}}^{i} - I \\right) + I \\\\\n",
    "    &= \\prod_{j = 1}^{i} \\left( e^{[\\hat{\\xi}_{j} (\\vec{0})] \\theta_{j}} \\right) T_{i}^{0} (\\vec{0}) \\left( T_{m_{i}}^{i} - I \\right) + I\n",
    "\\end{aligned}\n",
    "$$\n"
   ]
  },
  {
   "cell_type": "markdown",
   "metadata": {},
   "source": [
    "Check $T_{CoM} (i; \\vec{\\theta}) $ correctness.\n"
   ]
  },
  {
   "cell_type": "code",
   "execution_count": 22,
   "metadata": {},
   "outputs": [
    {
     "data": {
      "text/plain": [
       "True"
      ]
     },
     "execution_count": 22,
     "metadata": {},
     "output_type": "execute_result"
    }
   ],
   "source": [
    "def T_CoM(T_i_0, T_mi_i):\n",
    "    return T_i_0 @ (T_mi_i - p.Identity(4).as_explicit()) + p.Identity(4).as_explicit()\n",
    "\n",
    "\n",
    "p.simplify(\n",
    "    AdjointInverseMatrix(T_CoM(T_3_0, T_m3_3)) @ SpatialVelocity_3 - SpatialVelocity_m3\n",
    ") == p.zeros(6, 1)"
   ]
  },
  {
   "cell_type": "markdown",
   "metadata": {},
   "source": [
    "### 1.3 CoMs' Jacobians\n"
   ]
  },
  {
   "cell_type": "markdown",
   "metadata": {},
   "source": [
    "CoMs' Jacobian matrix from definition."
   ]
  },
  {
   "cell_type": "code",
   "execution_count": 23,
   "metadata": {},
   "outputs": [],
   "source": [
    "def JacobianFromDefinition(V_CoM, Angles):\n",
    "    # ! .coeff() may lose vital information, use .subs() instead\n",
    "    # ? We compute Jacobian by substituting $\\dot{\\theta}_{i}$ with $1$,\n",
    "    # ? the other with $0$ at column $i$.\n",
    "    J_CoM = p.zeros(6, Angles.shape[0])\n",
    "    for i in range(6):\n",
    "        # i refers to row\n",
    "        J_CoM[i, :] = V_CoM[i] * p.ones(1, Angles.shape[0])\n",
    "        for j in range(Angles.shape[0]):\n",
    "            # j refers to column\n",
    "            for k in range(Angles.shape[0]):\n",
    "                J_CoM[i, j] = J_CoM[i, j].subs(Angles[k].diff(t), int(j == k))\n",
    "    return J_CoM\n",
    "\n",
    "\n",
    "JointSpace = p.Matrix(\n",
    "    [theta_1_t, theta_2_t, theta_3_t, theta_4_t, theta_5_t, theta_6_t, theta_7_t]\n",
    ")\n",
    "\n",
    "# Joint Jacobian\n",
    "Jacobian_1 = JacobianFromDefinition(SpatialVelocity_1, JointSpace)\n",
    "Jacobian_2 = JacobianFromDefinition(SpatialVelocity_2, JointSpace)\n",
    "Jacobian_3 = JacobianFromDefinition(SpatialVelocity_3, JointSpace)\n",
    "Jacobian_4 = JacobianFromDefinition(SpatialVelocity_4, JointSpace)\n",
    "Jacobian_5 = JacobianFromDefinition(SpatialVelocity_5, JointSpace)\n",
    "Jacobian_6 = JacobianFromDefinition(SpatialVelocity_6, JointSpace)\n",
    "Jacobian_7 = JacobianFromDefinition(SpatialVelocity_7, JointSpace)\n",
    "\n",
    "# Link CoM Jacobian\n",
    "Jacobian_m1 = JacobianFromDefinition(SpatialVelocity_m1, JointSpace)\n",
    "Jacobian_m2 = JacobianFromDefinition(SpatialVelocity_m2, JointSpace)\n",
    "Jacobian_m3 = JacobianFromDefinition(SpatialVelocity_m3, JointSpace)\n",
    "Jacobian_m4 = JacobianFromDefinition(SpatialVelocity_m4, JointSpace)\n",
    "Jacobian_m5 = JacobianFromDefinition(SpatialVelocity_m5, JointSpace)\n",
    "Jacobian_m6 = JacobianFromDefinition(SpatialVelocity_m6, JointSpace)\n",
    "Jacobian_m7 = JacobianFromDefinition(SpatialVelocity_m7, JointSpace)"
   ]
  },
  {
   "cell_type": "markdown",
   "metadata": {},
   "source": [
    "Jacobian matrix of CoMs and joints follows:\n",
    "\n",
    "$$\n",
    "\\begin{aligned}\n",
    "    \\vec{V}_{m_{i}}^{s} (\\vec{\\theta}) &= \\mathrm{Ad}_{V}^{-1} \\left( T_{CoM} (i; \\vec{\\theta}) \\right) \\vec{V}_{i}^{s} (\\vec{\\theta}) \\\\\n",
    "    J_{m_{i}} \\dot{\\vec{\\theta}} &= \\mathrm{Ad}_{V}^{-1} \\left( T_{CoM} (i; \\vec{\\theta}) \\right) J_{i} \\dot{\\vec{\\theta}} \\\\\n",
    "    \\Rightarrow J_{m_{i}} &= \\mathrm{Ad}_{V}^{-1} \\left( T_{CoM} (i; \\vec{\\theta}) \\right) J_{i}\n",
    "\\end{aligned}\n",
    "$$\n"
   ]
  },
  {
   "cell_type": "code",
   "execution_count": 24,
   "metadata": {},
   "outputs": [
    {
     "data": {
      "text/plain": [
       "True"
      ]
     },
     "execution_count": 24,
     "metadata": {},
     "output_type": "execute_result"
    }
   ],
   "source": [
    "p.simplify(\n",
    "    Jacobian_m3 - AdjointInverseMatrix(T_CoM(T_3_0, T_m3_3)) @ Jacobian_3\n",
    ") == p.zeros(6, 7)"
   ]
  }
 ],
 "metadata": {
  "kernelspec": {
   "display_name": "Robotics",
   "language": "python",
   "name": "python3"
  },
  "language_info": {
   "codemirror_mode": {
    "name": "ipython",
    "version": 3
   },
   "file_extension": ".py",
   "mimetype": "text/x-python",
   "name": "python",
   "nbconvert_exporter": "python",
   "pygments_lexer": "ipython3",
   "version": "3.10.13"
  }
 },
 "nbformat": 4,
 "nbformat_minor": 2
}
